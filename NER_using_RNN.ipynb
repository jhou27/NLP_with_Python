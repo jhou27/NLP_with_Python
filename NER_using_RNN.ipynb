{
  "nbformat": 4,
  "nbformat_minor": 0,
  "metadata": {
    "colab": {
      "provenance": [],
      "mount_file_id": "1SIPjYSJU62Iit6MQzpp4M9V4PrpSyAmk",
      "authorship_tag": "ABX9TyMTmGg8ie6ypsx2ipo4T61d",
      "include_colab_link": true
    },
    "kernelspec": {
      "name": "python3",
      "display_name": "Python 3"
    },
    "language_info": {
      "name": "python"
    },
    "accelerator": "GPU",
    "gpuClass": "standard"
  },
  "cells": [
    {
      "cell_type": "markdown",
      "metadata": {
        "id": "view-in-github",
        "colab_type": "text"
      },
      "source": [
        "<a href=\"https://colab.research.google.com/github/jhou27/NLP_with_Python/blob/main/NER_using_RNN.ipynb\" target=\"_parent\"><img src=\"https://colab.research.google.com/assets/colab-badge.svg\" alt=\"Open In Colab\"/></a>"
      ]
    },
    {
      "cell_type": "code",
      "execution_count": 1,
      "metadata": {
        "colab": {
          "base_uri": "https://localhost:8080/",
          "height": 224
        },
        "id": "a4wC-aMOcPjN",
        "outputId": "cd4aec66-4aab-44bf-9094-d8b56ea7844e"
      },
      "outputs": [
        {
          "output_type": "stream",
          "name": "stdout",
          "text": [
            "(1048575, 4)\n"
          ]
        },
        {
          "output_type": "execute_result",
          "data": {
            "text/plain": [
              "    Sentence #           Word  POS Tag\n",
              "0  Sentence: 1      Thousands  NNS   O\n",
              "1          NaN             of   IN   O\n",
              "2          NaN  demonstrators  NNS   O\n",
              "3          NaN           have  VBP   O\n",
              "4          NaN        marched  VBN   O"
            ],
            "text/html": [
              "\n",
              "  <div id=\"df-5a481aef-ab1d-4372-8c8b-6f6ae54b3608\">\n",
              "    <div class=\"colab-df-container\">\n",
              "      <div>\n",
              "<style scoped>\n",
              "    .dataframe tbody tr th:only-of-type {\n",
              "        vertical-align: middle;\n",
              "    }\n",
              "\n",
              "    .dataframe tbody tr th {\n",
              "        vertical-align: top;\n",
              "    }\n",
              "\n",
              "    .dataframe thead th {\n",
              "        text-align: right;\n",
              "    }\n",
              "</style>\n",
              "<table border=\"1\" class=\"dataframe\">\n",
              "  <thead>\n",
              "    <tr style=\"text-align: right;\">\n",
              "      <th></th>\n",
              "      <th>Sentence #</th>\n",
              "      <th>Word</th>\n",
              "      <th>POS</th>\n",
              "      <th>Tag</th>\n",
              "    </tr>\n",
              "  </thead>\n",
              "  <tbody>\n",
              "    <tr>\n",
              "      <th>0</th>\n",
              "      <td>Sentence: 1</td>\n",
              "      <td>Thousands</td>\n",
              "      <td>NNS</td>\n",
              "      <td>O</td>\n",
              "    </tr>\n",
              "    <tr>\n",
              "      <th>1</th>\n",
              "      <td>NaN</td>\n",
              "      <td>of</td>\n",
              "      <td>IN</td>\n",
              "      <td>O</td>\n",
              "    </tr>\n",
              "    <tr>\n",
              "      <th>2</th>\n",
              "      <td>NaN</td>\n",
              "      <td>demonstrators</td>\n",
              "      <td>NNS</td>\n",
              "      <td>O</td>\n",
              "    </tr>\n",
              "    <tr>\n",
              "      <th>3</th>\n",
              "      <td>NaN</td>\n",
              "      <td>have</td>\n",
              "      <td>VBP</td>\n",
              "      <td>O</td>\n",
              "    </tr>\n",
              "    <tr>\n",
              "      <th>4</th>\n",
              "      <td>NaN</td>\n",
              "      <td>marched</td>\n",
              "      <td>VBN</td>\n",
              "      <td>O</td>\n",
              "    </tr>\n",
              "  </tbody>\n",
              "</table>\n",
              "</div>\n",
              "      <button class=\"colab-df-convert\" onclick=\"convertToInteractive('df-5a481aef-ab1d-4372-8c8b-6f6ae54b3608')\"\n",
              "              title=\"Convert this dataframe to an interactive table.\"\n",
              "              style=\"display:none;\">\n",
              "        \n",
              "  <svg xmlns=\"http://www.w3.org/2000/svg\" height=\"24px\"viewBox=\"0 0 24 24\"\n",
              "       width=\"24px\">\n",
              "    <path d=\"M0 0h24v24H0V0z\" fill=\"none\"/>\n",
              "    <path d=\"M18.56 5.44l.94 2.06.94-2.06 2.06-.94-2.06-.94-.94-2.06-.94 2.06-2.06.94zm-11 1L8.5 8.5l.94-2.06 2.06-.94-2.06-.94L8.5 2.5l-.94 2.06-2.06.94zm10 10l.94 2.06.94-2.06 2.06-.94-2.06-.94-.94-2.06-.94 2.06-2.06.94z\"/><path d=\"M17.41 7.96l-1.37-1.37c-.4-.4-.92-.59-1.43-.59-.52 0-1.04.2-1.43.59L10.3 9.45l-7.72 7.72c-.78.78-.78 2.05 0 2.83L4 21.41c.39.39.9.59 1.41.59.51 0 1.02-.2 1.41-.59l7.78-7.78 2.81-2.81c.8-.78.8-2.07 0-2.86zM5.41 20L4 18.59l7.72-7.72 1.47 1.35L5.41 20z\"/>\n",
              "  </svg>\n",
              "      </button>\n",
              "      \n",
              "  <style>\n",
              "    .colab-df-container {\n",
              "      display:flex;\n",
              "      flex-wrap:wrap;\n",
              "      gap: 12px;\n",
              "    }\n",
              "\n",
              "    .colab-df-convert {\n",
              "      background-color: #E8F0FE;\n",
              "      border: none;\n",
              "      border-radius: 50%;\n",
              "      cursor: pointer;\n",
              "      display: none;\n",
              "      fill: #1967D2;\n",
              "      height: 32px;\n",
              "      padding: 0 0 0 0;\n",
              "      width: 32px;\n",
              "    }\n",
              "\n",
              "    .colab-df-convert:hover {\n",
              "      background-color: #E2EBFA;\n",
              "      box-shadow: 0px 1px 2px rgba(60, 64, 67, 0.3), 0px 1px 3px 1px rgba(60, 64, 67, 0.15);\n",
              "      fill: #174EA6;\n",
              "    }\n",
              "\n",
              "    [theme=dark] .colab-df-convert {\n",
              "      background-color: #3B4455;\n",
              "      fill: #D2E3FC;\n",
              "    }\n",
              "\n",
              "    [theme=dark] .colab-df-convert:hover {\n",
              "      background-color: #434B5C;\n",
              "      box-shadow: 0px 1px 3px 1px rgba(0, 0, 0, 0.15);\n",
              "      filter: drop-shadow(0px 1px 2px rgba(0, 0, 0, 0.3));\n",
              "      fill: #FFFFFF;\n",
              "    }\n",
              "  </style>\n",
              "\n",
              "      <script>\n",
              "        const buttonEl =\n",
              "          document.querySelector('#df-5a481aef-ab1d-4372-8c8b-6f6ae54b3608 button.colab-df-convert');\n",
              "        buttonEl.style.display =\n",
              "          google.colab.kernel.accessAllowed ? 'block' : 'none';\n",
              "\n",
              "        async function convertToInteractive(key) {\n",
              "          const element = document.querySelector('#df-5a481aef-ab1d-4372-8c8b-6f6ae54b3608');\n",
              "          const dataTable =\n",
              "            await google.colab.kernel.invokeFunction('convertToInteractive',\n",
              "                                                     [key], {});\n",
              "          if (!dataTable) return;\n",
              "\n",
              "          const docLinkHtml = 'Like what you see? Visit the ' +\n",
              "            '<a target=\"_blank\" href=https://colab.research.google.com/notebooks/data_table.ipynb>data table notebook</a>'\n",
              "            + ' to learn more about interactive tables.';\n",
              "          element.innerHTML = '';\n",
              "          dataTable['output_type'] = 'display_data';\n",
              "          await google.colab.output.renderOutput(dataTable, element);\n",
              "          const docLink = document.createElement('div');\n",
              "          docLink.innerHTML = docLinkHtml;\n",
              "          element.appendChild(docLink);\n",
              "        }\n",
              "      </script>\n",
              "    </div>\n",
              "  </div>\n",
              "  "
            ]
          },
          "metadata": {},
          "execution_count": 1
        }
      ],
      "source": [
        "import tensorflow as tf\n",
        "import pandas as pd\n",
        "import matplotlib.pyplot as plt\n",
        "import seaborn as sns\n",
        "import warnings\n",
        "warnings.filterwarnings('ignore')\n",
        "\n",
        "import numpy as np \n",
        "from sklearn.model_selection import train_test_split\n",
        "from tensorflow.keras.preprocessing.sequence import pad_sequences\n",
        "from tensorflow.keras.utils import to_categorical\n",
        "\n",
        "data = pd.read_csv('/content/drive/My Drive/coding/data/ner_datasetreference.csv', encoding= 'unicode_escape')\n",
        "print(data.shape)\n",
        "data.head()"
      ]
    },
    {
      "cell_type": "code",
      "source": [
        "#tag distribution\n",
        "plt.figure(figsize = (16,8))\n",
        "sns.set_style('darkgrid')\n",
        "sns.histplot(data['Tag'])\n",
        "plt.tight_layout(pad=2)\n",
        "plt.show()"
      ],
      "metadata": {
        "colab": {
          "base_uri": "https://localhost:8080/",
          "height": 567
        },
        "id": "xJP2aEXbcyMS",
        "outputId": "d69224a6-f3a4-47c6-9f47-d6d64cf8b954"
      },
      "execution_count": 2,
      "outputs": [
        {
          "output_type": "display_data",
          "data": {
            "text/plain": [
              "<Figure size 1152x576 with 1 Axes>"
            ],
            "image/png": "[encoded data removed]"
          },
          "metadata": {
            "needs_background": "light"
          }
        }
      ]
    },
    {
      "cell_type": "markdown",
      "source": [
        "#Data preprocessing"
      ],
      "metadata": {
        "id": "EAnKaksXc__-"
      }
    },
    {
      "cell_type": "code",
      "source": [
        "from itertools import chain\n",
        "def get_dict_map(data, token_or_tag):\n",
        "    tok2idx = {}\n",
        "    idx2tok = {}\n",
        "    \n",
        "    if token_or_tag == 'token':\n",
        "        vocab = list(set(data['Word'].to_list()))\n",
        "    else:\n",
        "        vocab = list(set(data['Tag'].to_list()))\n",
        "    \n",
        "    idx2tok = {idx:tok for  idx, tok in enumerate(vocab)}\n",
        "    tok2idx = {tok:idx for  idx, tok in enumerate(vocab)}\n",
        "    return tok2idx, idx2tok\n",
        "token2idx, idx2token = get_dict_map(data, 'token')\n",
        "tag2idx, idx2tag = get_dict_map(data, 'tag')\n"
      ],
      "metadata": {
        "id": "DYqoISUoc-Yc"
      },
      "execution_count": 3,
      "outputs": []
    },
    {
      "cell_type": "code",
      "source": [
        "data['Word_idx'] = data['Word'].map(token2idx)\n",
        "data['Tag_idx'] = data['Tag'].map(tag2idx)\n",
        "data_fillna = data.fillna(method='ffill', axis=0)\n",
        "# Groupby and collect columns\n",
        "data_group = data_fillna.groupby(['Sentence #'],as_index=False)['Word', 'POS', 'Tag', 'Word_idx', 'Tag_idx'].agg(lambda x: list(x))"
      ],
      "metadata": {
        "id": "JzxlHWgehEct"
      },
      "execution_count": 4,
      "outputs": []
    },
    {
      "cell_type": "code",
      "source": [
        "data_group"
      ],
      "metadata": {
        "colab": {
          "base_uri": "https://localhost:8080/",
          "height": 641
        },
        "id": "8OzpM4NChGwW",
        "outputId": "eda97033-70e2-40db-ea3e-a43d507739c6"
      },
      "execution_count": 5,
      "outputs": [
        {
          "output_type": "execute_result",
          "data": {
            "text/plain": [
              "            Sentence #                                               Word  \\\n",
              "0          Sentence: 1  [Thousands, of, demonstrators, have, marched, ...   \n",
              "1         Sentence: 10  [Iranian, officials, say, they, expect, to, ge...   \n",
              "2        Sentence: 100  [Helicopter, gunships, Saturday, pounded, mili...   \n",
              "3       Sentence: 1000  [They, left, after, a, tense, hour-long, stand...   \n",
              "4      Sentence: 10000  [U.N., relief, coordinator, Jan, Egeland, said...   \n",
              "...                ...                                                ...   \n",
              "47954   Sentence: 9995  [Opposition, leader, Mir, Hossein, Mousavi, ha...   \n",
              "47955   Sentence: 9996  [On, Thursday, ,, Iranian, state, media, publi...   \n",
              "47956   Sentence: 9997  [Following, Iran, 's, disputed, June, 12, elec...   \n",
              "47957   Sentence: 9998  [Since, then, ,, authorities, have, held, publ...   \n",
              "47958   Sentence: 9999  [The, United, Nations, is, praising, the, use,...   \n",
              "\n",
              "                                                     POS  \\\n",
              "0      [NNS, IN, NNS, VBP, VBN, IN, NNP, TO, VB, DT, ...   \n",
              "1      [JJ, NNS, VBP, PRP, VBP, TO, VB, NN, TO, JJ, J...   \n",
              "2      [NN, NNS, NNP, VBD, JJ, NNS, IN, DT, NNP, JJ, ...   \n",
              "3         [PRP, VBD, IN, DT, NN, JJ, NN, IN, NN, NNS, .]   \n",
              "4      [NNP, NN, NN, NNP, NNP, VBD, NNP, ,, NNP, ,, J...   \n",
              "...                                                  ...   \n",
              "47954  [NNP, NN, NNP, NNP, NNP, VBZ, VBN, PRP, VBZ, T...   \n",
              "47955  [IN, NNP, ,, JJ, NN, NNS, VBN, DT, NN, IN, DT,...   \n",
              "47956  [VBG, NNP, POS, JJ, NNP, CD, NNS, ,, NNS, NNS,...   \n",
              "47957  [IN, RB, ,, NNS, VBP, VBN, JJ, NNS, IN, DT, VB...   \n",
              "47958  [DT, NNP, NNP, VBZ, VBG, DT, NN, IN, JJ, NNS, ...   \n",
              "\n",
              "                                                     Tag  \\\n",
              "0      [O, O, O, O, O, O, B-geo, O, O, O, O, O, B-geo...   \n",
              "1      [B-gpe, O, O, O, O, O, O, O, O, O, O, O, O, O,...   \n",
              "2      [O, O, B-tim, O, O, O, O, O, B-geo, O, O, O, O...   \n",
              "3                      [O, O, O, O, O, O, O, O, O, O, O]   \n",
              "4      [B-geo, O, O, B-per, I-per, O, B-tim, O, B-geo...   \n",
              "...                                                  ...   \n",
              "47954  [O, O, O, B-per, I-per, O, O, O, O, O, O, O, O...   \n",
              "47955  [O, B-tim, O, B-gpe, O, O, O, O, O, O, O, O, B...   \n",
              "47956  [O, B-geo, O, O, B-tim, I-tim, O, O, O, O, O, ...   \n",
              "47957  [O, O, O, O, O, O, O, O, O, O, O, O, O, O, O, ...   \n",
              "47958  [O, B-org, I-org, O, O, O, O, O, O, O, O, O, O...   \n",
              "\n",
              "                                                Word_idx  \\\n",
              "0      [17445, 9757, 26556, 21192, 3603, 27030, 9867,...   \n",
              "1      [34485, 11618, 29080, 34771, 26953, 27567, 218...   \n",
              "2      [15368, 27581, 15670, 6595, 762, 15777, 13065,...   \n",
              "3      [3508, 31090, 21546, 6189, 27397, 5932, 8927, ...   \n",
              "4      [22793, 23746, 27, 24669, 7191, 33179, 29091, ...   \n",
              "...                                                  ...   \n",
              "47954  [22487, 30836, 29643, 9461, 4642, 10746, 33179...   \n",
              "47955  [16618, 19758, 6953, 34485, 7396, 6940, 9386, ...   \n",
              "47956  [18285, 16949, 18075, 13792, 24126, 26603, 159...   \n",
              "47957  [15009, 33229, 6953, 22794, 21192, 23674, 9541...   \n",
              "47958  [16689, 19156, 17567, 2580, 3371, 34800, 25509...   \n",
              "\n",
              "                                                 Tag_idx  \n",
              "0      [6, 6, 6, 6, 6, 6, 15, 6, 6, 6, 6, 6, 15, 6, 6...  \n",
              "1      [0, 6, 6, 6, 6, 6, 6, 6, 6, 6, 6, 6, 6, 6, 6, ...  \n",
              "2      [6, 6, 10, 6, 6, 6, 6, 6, 15, 6, 6, 6, 6, 6, 9...  \n",
              "3                      [6, 6, 6, 6, 6, 6, 6, 6, 6, 6, 6]  \n",
              "4      [15, 6, 6, 7, 16, 6, 10, 6, 15, 6, 0, 6, 0, 6,...  \n",
              "...                                                  ...  \n",
              "47954  [6, 6, 6, 7, 16, 6, 6, 6, 6, 6, 6, 6, 6, 6, 6,...  \n",
              "47955  [6, 10, 6, 0, 6, 6, 6, 6, 6, 6, 6, 6, 9, 14, 6...  \n",
              "47956  [6, 15, 6, 6, 10, 13, 6, 6, 6, 6, 6, 6, 6, 6, ...  \n",
              "47957  [6, 6, 6, 6, 6, 6, 6, 6, 6, 6, 6, 6, 6, 6, 6, ...  \n",
              "47958  [6, 9, 14, 6, 6, 6, 6, 6, 6, 6, 6, 6, 6, 6, 6,...  \n",
              "\n",
              "[47959 rows x 6 columns]"
            ],
            "text/html": [
              "\n",
              "  <div id=\"df-5db64f64-a9bd-448f-a349-88670e2df790\">\n",
              "    <div class=\"colab-df-container\">\n",
              "      <div>\n",
              "<style scoped>\n",
              "    .dataframe tbody tr th:only-of-type {\n",
              "        vertical-align: middle;\n",
              "    }\n",
              "\n",
              "    .dataframe tbody tr th {\n",
              "        vertical-align: top;\n",
              "    }\n",
              "\n",
              "    .dataframe thead th {\n",
              "        text-align: right;\n",
              "    }\n",
              "</style>\n",
              "<table border=\"1\" class=\"dataframe\">\n",
              "  <thead>\n",
              "    <tr style=\"text-align: right;\">\n",
              "      <th></th>\n",
              "      <th>Sentence #</th>\n",
              "      <th>Word</th>\n",
              "      <th>POS</th>\n",
              "      <th>Tag</th>\n",
              "      <th>Word_idx</th>\n",
              "      <th>Tag_idx</th>\n",
              "    </tr>\n",
              "  </thead>\n",
              "  <tbody>\n",
              "    <tr>\n",
              "      <th>0</th>\n",
              "      <td>Sentence: 1</td>\n",
              "      <td>[Thousands, of, demonstrators, have, marched, ...</td>\n",
              "      <td>[NNS, IN, NNS, VBP, VBN, IN, NNP, TO, VB, DT, ...</td>\n",
              "      <td>[O, O, O, O, O, O, B-geo, O, O, O, O, O, B-geo...</td>\n",
              "      <td>[17445, 9757, 26556, 21192, 3603, 27030, 9867,...</td>\n",
              "      <td>[6, 6, 6, 6, 6, 6, 15, 6, 6, 6, 6, 6, 15, 6, 6...</td>\n",
              "    </tr>\n",
              "    <tr>\n",
              "      <th>1</th>\n",
              "      <td>Sentence: 10</td>\n",
              "      <td>[Iranian, officials, say, they, expect, to, ge...</td>\n",
              "      <td>[JJ, NNS, VBP, PRP, VBP, TO, VB, NN, TO, JJ, J...</td>\n",
              "      <td>[B-gpe, O, O, O, O, O, O, O, O, O, O, O, O, O,...</td>\n",
              "      <td>[34485, 11618, 29080, 34771, 26953, 27567, 218...</td>\n",
              "      <td>[0, 6, 6, 6, 6, 6, 6, 6, 6, 6, 6, 6, 6, 6, 6, ...</td>\n",
              "    </tr>\n",
              "    <tr>\n",
              "      <th>2</th>\n",
              "      <td>Sentence: 100</td>\n",
              "      <td>[Helicopter, gunships, Saturday, pounded, mili...</td>\n",
              "      <td>[NN, NNS, NNP, VBD, JJ, NNS, IN, DT, NNP, JJ, ...</td>\n",
              "      <td>[O, O, B-tim, O, O, O, O, O, B-geo, O, O, O, O...</td>\n",
              "      <td>[15368, 27581, 15670, 6595, 762, 15777, 13065,...</td>\n",
              "      <td>[6, 6, 10, 6, 6, 6, 6, 6, 15, 6, 6, 6, 6, 6, 9...</td>\n",
              "    </tr>\n",
              "    <tr>\n",
              "      <th>3</th>\n",
              "      <td>Sentence: 1000</td>\n",
              "      <td>[They, left, after, a, tense, hour-long, stand...</td>\n",
              "      <td>[PRP, VBD, IN, DT, NN, JJ, NN, IN, NN, NNS, .]</td>\n",
              "      <td>[O, O, O, O, O, O, O, O, O, O, O]</td>\n",
              "      <td>[3508, 31090, 21546, 6189, 27397, 5932, 8927, ...</td>\n",
              "      <td>[6, 6, 6, 6, 6, 6, 6, 6, 6, 6, 6]</td>\n",
              "    </tr>\n",
              "    <tr>\n",
              "      <th>4</th>\n",
              "      <td>Sentence: 10000</td>\n",
              "      <td>[U.N., relief, coordinator, Jan, Egeland, said...</td>\n",
              "      <td>[NNP, NN, NN, NNP, NNP, VBD, NNP, ,, NNP, ,, J...</td>\n",
              "      <td>[B-geo, O, O, B-per, I-per, O, B-tim, O, B-geo...</td>\n",
              "      <td>[22793, 23746, 27, 24669, 7191, 33179, 29091, ...</td>\n",
              "      <td>[15, 6, 6, 7, 16, 6, 10, 6, 15, 6, 0, 6, 0, 6,...</td>\n",
              "    </tr>\n",
              "    <tr>\n",
              "      <th>...</th>\n",
              "      <td>...</td>\n",
              "      <td>...</td>\n",
              "      <td>...</td>\n",
              "      <td>...</td>\n",
              "      <td>...</td>\n",
              "      <td>...</td>\n",
              "    </tr>\n",
              "    <tr>\n",
              "      <th>47954</th>\n",
              "      <td>Sentence: 9995</td>\n",
              "      <td>[Opposition, leader, Mir, Hossein, Mousavi, ha...</td>\n",
              "      <td>[NNP, NN, NNP, NNP, NNP, VBZ, VBN, PRP, VBZ, T...</td>\n",
              "      <td>[O, O, O, B-per, I-per, O, O, O, O, O, O, O, O...</td>\n",
              "      <td>[22487, 30836, 29643, 9461, 4642, 10746, 33179...</td>\n",
              "      <td>[6, 6, 6, 7, 16, 6, 6, 6, 6, 6, 6, 6, 6, 6, 6,...</td>\n",
              "    </tr>\n",
              "    <tr>\n",
              "      <th>47955</th>\n",
              "      <td>Sentence: 9996</td>\n",
              "      <td>[On, Thursday, ,, Iranian, state, media, publi...</td>\n",
              "      <td>[IN, NNP, ,, JJ, NN, NNS, VBN, DT, NN, IN, DT,...</td>\n",
              "      <td>[O, B-tim, O, B-gpe, O, O, O, O, O, O, O, O, B...</td>\n",
              "      <td>[16618, 19758, 6953, 34485, 7396, 6940, 9386, ...</td>\n",
              "      <td>[6, 10, 6, 0, 6, 6, 6, 6, 6, 6, 6, 6, 9, 14, 6...</td>\n",
              "    </tr>\n",
              "    <tr>\n",
              "      <th>47956</th>\n",
              "      <td>Sentence: 9997</td>\n",
              "      <td>[Following, Iran, 's, disputed, June, 12, elec...</td>\n",
              "      <td>[VBG, NNP, POS, JJ, NNP, CD, NNS, ,, NNS, NNS,...</td>\n",
              "      <td>[O, B-geo, O, O, B-tim, I-tim, O, O, O, O, O, ...</td>\n",
              "      <td>[18285, 16949, 18075, 13792, 24126, 26603, 159...</td>\n",
              "      <td>[6, 15, 6, 6, 10, 13, 6, 6, 6, 6, 6, 6, 6, 6, ...</td>\n",
              "    </tr>\n",
              "    <tr>\n",
              "      <th>47957</th>\n",
              "      <td>Sentence: 9998</td>\n",
              "      <td>[Since, then, ,, authorities, have, held, publ...</td>\n",
              "      <td>[IN, RB, ,, NNS, VBP, VBN, JJ, NNS, IN, DT, VB...</td>\n",
              "      <td>[O, O, O, O, O, O, O, O, O, O, O, O, O, O, O, ...</td>\n",
              "      <td>[15009, 33229, 6953, 22794, 21192, 23674, 9541...</td>\n",
              "      <td>[6, 6, 6, 6, 6, 6, 6, 6, 6, 6, 6, 6, 6, 6, 6, ...</td>\n",
              "    </tr>\n",
              "    <tr>\n",
              "      <th>47958</th>\n",
              "      <td>Sentence: 9999</td>\n",
              "      <td>[The, United, Nations, is, praising, the, use,...</td>\n",
              "      <td>[DT, NNP, NNP, VBZ, VBG, DT, NN, IN, JJ, NNS, ...</td>\n",
              "      <td>[O, B-org, I-org, O, O, O, O, O, O, O, O, O, O...</td>\n",
              "      <td>[16689, 19156, 17567, 2580, 3371, 34800, 25509...</td>\n",
              "      <td>[6, 9, 14, 6, 6, 6, 6, 6, 6, 6, 6, 6, 6, 6, 6,...</td>\n",
              "    </tr>\n",
              "  </tbody>\n",
              "</table>\n",
              "<p>47959 rows × 6 columns</p>\n",
              "</div>\n",
              "      <button class=\"colab-df-convert\" onclick=\"convertToInteractive('df-5db64f64-a9bd-448f-a349-88670e2df790')\"\n",
              "              title=\"Convert this dataframe to an interactive table.\"\n",
              "              style=\"display:none;\">\n",
              "        \n",
              "  <svg xmlns=\"http://www.w3.org/2000/svg\" height=\"24px\"viewBox=\"0 0 24 24\"\n",
              "       width=\"24px\">\n",
              "    <path d=\"M0 0h24v24H0V0z\" fill=\"none\"/>\n",
              "    <path d=\"M18.56 5.44l.94 2.06.94-2.06 2.06-.94-2.06-.94-.94-2.06-.94 2.06-2.06.94zm-11 1L8.5 8.5l.94-2.06 2.06-.94-2.06-.94L8.5 2.5l-.94 2.06-2.06.94zm10 10l.94 2.06.94-2.06 2.06-.94-2.06-.94-.94-2.06-.94 2.06-2.06.94z\"/><path d=\"M17.41 7.96l-1.37-1.37c-.4-.4-.92-.59-1.43-.59-.52 0-1.04.2-1.43.59L10.3 9.45l-7.72 7.72c-.78.78-.78 2.05 0 2.83L4 21.41c.39.39.9.59 1.41.59.51 0 1.02-.2 1.41-.59l7.78-7.78 2.81-2.81c.8-.78.8-2.07 0-2.86zM5.41 20L4 18.59l7.72-7.72 1.47 1.35L5.41 20z\"/>\n",
              "  </svg>\n",
              "      </button>\n",
              "      \n",
              "  <style>\n",
              "    .colab-df-container {\n",
              "      display:flex;\n",
              "      flex-wrap:wrap;\n",
              "      gap: 12px;\n",
              "    }\n",
              "\n",
              "    .colab-df-convert {\n",
              "      background-color: #E8F0FE;\n",
              "      border: none;\n",
              "      border-radius: 50%;\n",
              "      cursor: pointer;\n",
              "      display: none;\n",
              "      fill: #1967D2;\n",
              "      height: 32px;\n",
              "      padding: 0 0 0 0;\n",
              "      width: 32px;\n",
              "    }\n",
              "\n",
              "    .colab-df-convert:hover {\n",
              "      background-color: #E2EBFA;\n",
              "      box-shadow: 0px 1px 2px rgba(60, 64, 67, 0.3), 0px 1px 3px 1px rgba(60, 64, 67, 0.15);\n",
              "      fill: #174EA6;\n",
              "    }\n",
              "\n",
              "    [theme=dark] .colab-df-convert {\n",
              "      background-color: #3B4455;\n",
              "      fill: #D2E3FC;\n",
              "    }\n",
              "\n",
              "    [theme=dark] .colab-df-convert:hover {\n",
              "      background-color: #434B5C;\n",
              "      box-shadow: 0px 1px 3px 1px rgba(0, 0, 0, 0.15);\n",
              "      filter: drop-shadow(0px 1px 2px rgba(0, 0, 0, 0.3));\n",
              "      fill: #FFFFFF;\n",
              "    }\n",
              "  </style>\n",
              "\n",
              "      <script>\n",
              "        const buttonEl =\n",
              "          document.querySelector('#df-5db64f64-a9bd-448f-a349-88670e2df790 button.colab-df-convert');\n",
              "        buttonEl.style.display =\n",
              "          google.colab.kernel.accessAllowed ? 'block' : 'none';\n",
              "\n",
              "        async function convertToInteractive(key) {\n",
              "          const element = document.querySelector('#df-5db64f64-a9bd-448f-a349-88670e2df790');\n",
              "          const dataTable =\n",
              "            await google.colab.kernel.invokeFunction('convertToInteractive',\n",
              "                                                     [key], {});\n",
              "          if (!dataTable) return;\n",
              "\n",
              "          const docLinkHtml = 'Like what you see? Visit the ' +\n",
              "            '<a target=\"_blank\" href=https://colab.research.google.com/notebooks/data_table.ipynb>data table notebook</a>'\n",
              "            + ' to learn more about interactive tables.';\n",
              "          element.innerHTML = '';\n",
              "          dataTable['output_type'] = 'display_data';\n",
              "          await google.colab.output.renderOutput(dataTable, element);\n",
              "          const docLink = document.createElement('div');\n",
              "          docLink.innerHTML = docLinkHtml;\n",
              "          element.appendChild(docLink);\n",
              "        }\n",
              "      </script>\n",
              "    </div>\n",
              "  </div>\n",
              "  "
            ]
          },
          "metadata": {},
          "execution_count": 5
        }
      ]
    },
    {
      "cell_type": "code",
      "source": [
        "def get_pad_train_test_val(data_group, data):\n",
        "\n",
        "    #get max token and tag length\n",
        "    n_token = len(list(set(data['Word'].to_list())))\n",
        "    n_tag = len(list(set(data['Tag'].to_list())))\n",
        "\n",
        "    #Pad tokens (X var)    \n",
        "    tokens = data_group['Word_idx'].tolist()\n",
        "    maxlen = max([len(s) for s in tokens])\n",
        "    pad_tokens = pad_sequences(tokens, maxlen=maxlen, dtype='int32', padding='post', value= n_token - 1)\n",
        "\n",
        "    #Pad Tags (y var) and convert it into one hot encoding\n",
        "    tags = data_group['Tag_idx'].tolist()\n",
        "    pad_tags = pad_sequences(tags, maxlen=maxlen, dtype='int32', padding='post', value= tag2idx[\"O\"])\n",
        "    n_tags = len(tag2idx)\n",
        "    pad_tags = [to_categorical(i, num_classes=n_tags) for i in pad_tags]\n",
        "    \n",
        "    #Split train, test and validation set\n",
        "    tokens_, test_tokens, tags_, test_tags = train_test_split(pad_tokens, pad_tags, test_size=0.1, train_size=0.9, random_state=2020)\n",
        "    train_tokens, val_tokens, train_tags, val_tags = train_test_split(tokens_,tags_,test_size = 0.25,train_size =0.75, random_state=2020)\n",
        "\n",
        "    print(\n",
        "        'train_tokens length:', len(train_tokens),\n",
        "        '\\ntrain_tokens length:', len(train_tokens),\n",
        "        '\\ntest_tokens length:', len(test_tokens),\n",
        "        '\\ntest_tags:', len(test_tags),\n",
        "        '\\nval_tokens:', len(val_tokens),\n",
        "        '\\nval_tags:', len(val_tags),\n",
        "    )\n",
        "    \n",
        "    return train_tokens, val_tokens, test_tokens, train_tags, val_tags, test_tags\n",
        "\n",
        "train_tokens, val_tokens, test_tokens, train_tags, val_tags, test_tags = get_pad_train_test_val(data_group, data)\n",
        "train_tags = np.array(train_tags)\n",
        "val_tags = np.array(val_tags)\n",
        "test_tags = np.array(test_tags)\n",
        "print('train_tags: ',train_tags.shape,'val_tags: ',val_tags.shape,'test_tags: ',test_tags.shape)"
      ],
      "metadata": {
        "colab": {
          "base_uri": "https://localhost:8080/"
        },
        "id": "plvEtlA5h5UW",
        "outputId": "2e9557cc-6828-4fd2-e7f9-3a5bba0e0a5c"
      },
      "execution_count": 6,
      "outputs": [
        {
          "output_type": "stream",
          "name": "stdout",
          "text": [
            "train_tokens length: 32372 \n",
            "train_tokens length: 32372 \n",
            "test_tokens length: 4796 \n",
            "test_tags: 4796 \n",
            "val_tokens: 10791 \n",
            "val_tags: 10791\n",
            "train_tags:  (32372, 104, 17) val_tags:  (10791, 104, 17) test_tags:  (4796, 104, 17)\n"
          ]
        }
      ]
    },
    {
      "cell_type": "markdown",
      "source": [
        "#Building model & training"
      ],
      "metadata": {
        "id": "5MY0mZoOj2yS"
      }
    },
    {
      "cell_type": "code",
      "source": [
        "import numpy as np\n",
        "import tensorflow\n",
        "from tensorflow.keras.models import Sequential, Model\n",
        "from tensorflow.keras.layers import LSTM, Embedding, Dense, TimeDistributed, Dropout, Bidirectional, Input\n",
        "from tensorflow.keras.utils import plot_model\n",
        "from numpy.random import seed\n",
        "seed(1)\n",
        "tensorflow.random.set_seed(2)"
      ],
      "metadata": {
        "id": "qhy7ErAfj2gK"
      },
      "execution_count": 7,
      "outputs": []
    },
    {
      "cell_type": "code",
      "source": [
        "input_dim = len(list(set(data['Word'].to_list())))+1\n",
        "output_dim = 64\n",
        "input_length = max([len(s) for s in data_group['Word_idx'].tolist()])\n",
        "n_tags = len(tag2idx)"
      ],
      "metadata": {
        "id": "MOuqXIeyjqYS"
      },
      "execution_count": 8,
      "outputs": []
    },
    {
      "cell_type": "code",
      "source": [
        "def get_bilstm_lstm_model():\n",
        "    model = Sequential()\n",
        "    model.add(Embedding(input_dim=input_dim, output_dim=output_dim, input_length=input_length))\n",
        "    model.add(Bidirectional(LSTM(units=output_dim, return_sequences=True, dropout=0.2, recurrent_dropout=0.2), merge_mode = 'concat'))\n",
        "    model.add(LSTM(units=output_dim, return_sequences=True, dropout=0.5, recurrent_dropout=0.5))\n",
        "    model.add((Dense(n_tags, activation=\"softmax\")))\n",
        "\n",
        "    model.compile(loss='sparse_categorical_crossentropy', optimizer='adam', metrics=['accuracy'])\n",
        "    model.summary()\n",
        "    \n",
        "    return model"
      ],
      "metadata": {
        "id": "NiOExhr4kLE5"
      },
      "execution_count": 9,
      "outputs": []
    },
    {
      "cell_type": "code",
      "source": [
        "train_label = np.argmax(train_tags, axis=-1)\n",
        "print(train_tokens.shape)\n",
        "print(train_label.shape)"
      ],
      "metadata": {
        "colab": {
          "base_uri": "https://localhost:8080/"
        },
        "id": "EIjxM3OHlWRt",
        "outputId": "37c1ca35-f561-44a5-e810-2d7ef3c990cf"
      },
      "execution_count": 10,
      "outputs": [
        {
          "output_type": "stream",
          "name": "stdout",
          "text": [
            "(32372, 104)\n",
            "(32372, 104)\n"
          ]
        }
      ]
    },
    {
      "cell_type": "code",
      "source": [
        "nlp_model = get_bilstm_lstm_model()\n",
        "plot_model(nlp_model)\n",
        "his = nlp_model.fit(train_tokens, train_label , batch_size = 64, epochs=5, validation_split=0.2) \n",
        "#tf.keras.models.save_model(nlp_model, filepath  = \"./nlp_model.h5\")"
      ],
      "metadata": {
        "colab": {
          "base_uri": "https://localhost:8080/"
        },
        "id": "KzuE9J8okYg_",
        "outputId": "1707789d-b5db-47c7-83fa-e0eab55735ae"
      },
      "execution_count": 11,
      "outputs": [
        {
          "output_type": "stream",
          "name": "stderr",
          "text": [
            "WARNING:tensorflow:Layer lstm will not use cuDNN kernels since it doesn't meet the criteria. It will use a generic GPU kernel as fallback when running on GPU.\n",
            "WARNING:tensorflow:Layer lstm will not use cuDNN kernels since it doesn't meet the criteria. It will use a generic GPU kernel as fallback when running on GPU.\n",
            "WARNING:tensorflow:Layer lstm will not use cuDNN kernels since it doesn't meet the criteria. It will use a generic GPU kernel as fallback when running on GPU.\n",
            "WARNING:tensorflow:Layer lstm_1 will not use cuDNN kernels since it doesn't meet the criteria. It will use a generic GPU kernel as fallback when running on GPU.\n"
          ]
        },
        {
          "output_type": "stream",
          "name": "stdout",
          "text": [
            "Model: \"sequential\"\n",
            "_________________________________________________________________\n",
            " Layer (type)                Output Shape              Param #   \n",
            "=================================================================\n",
            " embedding (Embedding)       (None, 104, 64)           2251456   \n",
            "                                                                 \n",
            " bidirectional (Bidirectiona  (None, 104, 128)         66048     \n",
            " l)                                                              \n",
            "                                                                 \n",
            " lstm_1 (LSTM)               (None, 104, 64)           49408     \n",
            "                                                                 \n",
            " dense (Dense)               (None, 104, 17)           1105      \n",
            "                                                                 \n",
            "=================================================================\n",
            "Total params: 2,368,017\n",
            "Trainable params: 2,368,017\n",
            "Non-trainable params: 0\n",
            "_________________________________________________________________\n",
            "Epoch 1/5\n",
            "405/405 [==============================] - 504s 1s/step - loss: 0.2082 - accuracy: 0.9654 - val_loss: 0.0812 - val_accuracy: 0.9748\n",
            "Epoch 2/5\n",
            "405/405 [==============================] - 497s 1s/step - loss: 0.0731 - accuracy: 0.9767 - val_loss: 0.0640 - val_accuracy: 0.9786\n",
            "Epoch 3/5\n",
            "405/405 [==============================] - 492s 1s/step - loss: 0.0585 - accuracy: 0.9810 - val_loss: 0.0528 - val_accuracy: 0.9838\n",
            "Epoch 4/5\n",
            "405/405 [==============================] - 488s 1s/step - loss: 0.0430 - accuracy: 0.9870 - val_loss: 0.0386 - val_accuracy: 0.9888\n",
            "Epoch 5/5\n",
            "405/405 [==============================] - 488s 1s/step - loss: 0.0317 - accuracy: 0.9912 - val_loss: 0.0335 - val_accuracy: 0.9910\n"
          ]
        }
      ]
    },
    {
      "cell_type": "code",
      "source": [
        "y_test = np.argmax(test_tags, axis=-1)\n",
        "print(test_tokens.shape,y_test.shape)\n",
        "nlp_model.evaluate(test_tokens, y_test)"
      ],
      "metadata": {
        "colab": {
          "base_uri": "https://localhost:8080/"
        },
        "id": "1sTocvJAoKeN",
        "outputId": "111fd1bf-0e01-4010-c064-5cd74f0ddcc2"
      },
      "execution_count": 12,
      "outputs": [
        {
          "output_type": "stream",
          "name": "stdout",
          "text": [
            "(4796, 104) (4796, 104)\n",
            "150/150 [==============================] - 12s 80ms/step - loss: 0.0341 - accuracy: 0.9909\n"
          ]
        },
        {
          "output_type": "execute_result",
          "data": {
            "text/plain": [
              "[0.03408830612897873, 0.9909179210662842]"
            ]
          },
          "metadata": {},
          "execution_count": 12
        }
      ]
    },
    {
      "cell_type": "code",
      "source": [
        "y_test2 = np.argmax(val_tags, axis=-1)\n",
        "print(test_tokens.shape,y_test2.shape)\n",
        "nlp_model.evaluate(val_tokens, y_test2)"
      ],
      "metadata": {
        "colab": {
          "base_uri": "https://localhost:8080/"
        },
        "id": "Lt-BSorQOd45",
        "outputId": "57163fc9-17b7-4f9f-9854-cd73070dc47c"
      },
      "execution_count": 13,
      "outputs": [
        {
          "output_type": "stream",
          "name": "stdout",
          "text": [
            "(4796, 104) (10791, 104)\n",
            "338/338 [==============================] - 31s 92ms/step - loss: 0.0343 - accuracy: 0.9907\n"
          ]
        },
        {
          "output_type": "execute_result",
          "data": {
            "text/plain": [
              "[0.034317344427108765, 0.990717887878418]"
            ]
          },
          "metadata": {},
          "execution_count": 13
        }
      ]
    },
    {
      "cell_type": "code",
      "source": [
        "def predict(seed):\n",
        "    query  = test_tokens[seed]\n",
        "    query_text = []\n",
        "    for i in query.tolist():\n",
        "        query_text.append(idx2token.get(i))\n",
        "    print('Query_Text: ',' '.join(query_text[:10]))\n",
        "\n",
        "    ans = y_test[seed]\n",
        "    ans_text = []\n",
        "    for i in ans.tolist():\n",
        "        ans_text.append(idx2tag.get(i))\n",
        "    print('Tag_Text: ',' '.join(ans_text[:10]))\n",
        "\n",
        "    query = query.reshape(1,-1)\n",
        "    pred = nlp_model.predict(query)\n",
        "    pred = np.ravel(np.argmax(pred, axis=-1))\n",
        "    print('Query: ',query.shape,'Prediction: ',pred.shape)\n",
        "\n",
        "    pred_list = []\n",
        "    for i in pred.tolist():\n",
        "        pred_list.append(idx2tag.get(i))\n",
        "    print('Prediction_Text: ',' '.join(pred_list[:10])) \n",
        "    print()\n",
        "    print('--- Better-Representation---')\n",
        "    print()\n",
        "    rep_qr = []\n",
        "    for q, r_tag in zip(query_text[:10], ans_text[:10]):\n",
        "        rep_qr.append(q)\n",
        "        rep_qr.append('['+r_tag+']')\n",
        "    print('Actual_NER: ',' '.join(rep_qr),'....')\n",
        "    print()\n",
        "    rep_qp = []\n",
        "    for q, r_tag in zip(query_text[:10], pred_list[:10]):\n",
        "        rep_qp.append(q)\n",
        "        rep_qp.append('['+r_tag+']')\n",
        "    print('--'*70)\n",
        "    print()\n",
        "    print('Predicted_NER: ',' '.join(rep_qp),'....')\n",
        "\n",
        "seed = 10\n",
        "predict(seed)"
      ],
      "metadata": {
        "colab": {
          "base_uri": "https://localhost:8080/"
        },
        "id": "c8X1-ER7pMa9",
        "outputId": "4a96ab90-b3ad-4464-e438-4b1c88761b46"
      },
      "execution_count": 15,
      "outputs": [
        {
          "output_type": "stream",
          "name": "stdout",
          "text": [
            "Query_Text:  Under the new law , the Kremlin would select gubernatorial\n",
            "Tag_Text:  O O O O O O B-org O O O\n",
            "1/1 [==============================] - 0s 87ms/step\n",
            "Query:  (1, 104) Prediction:  (104,)\n",
            "Prediction_Text:  O O O O O O B-org O O O\n",
            "\n",
            "--- Better-Representation---\n",
            "\n",
            "Actual_NER:  Under [O] the [O] new [O] law [O] , [O] the [O] Kremlin [B-org] would [O] select [O] gubernatorial [O] ....\n",
            "\n",
            "--------------------------------------------------------------------------------------------------------------------------------------------\n",
            "\n",
            "Predicted_NER:  Under [O] the [O] new [O] law [O] , [O] the [O] Kremlin [B-org] would [O] select [O] gubernatorial [O] ....\n"
          ]
        }
      ]
    },
    {
      "cell_type": "code",
      "source": [
        "#using spacy to do NER\n",
        "import spacy\n",
        "from spacy import displacy\n",
        "nlp = spacy.load('en_core_web_sm')\n",
        "text = nlp('Under the new law , the Kremlin would select gubernatorial')\n",
        "displacy.render(text, style = 'ent', jupyter=True)"
      ],
      "metadata": {
        "colab": {
          "base_uri": "https://localhost:8080/",
          "height": 52
        },
        "id": "Zqq1CA2DpOyz",
        "outputId": "e3f3e3d6-6413-43e7-b289-827781f9c022"
      },
      "execution_count": 17,
      "outputs": [
        {
          "output_type": "display_data",
          "data": {
            "text/plain": [
              "<IPython.core.display.HTML object>"
            ],
            "text/html": [
              "<span class=\"tex2jax_ignore\"><div class=\"entities\" style=\"line-height: 2.5; direction: ltr\">Under the new law , the \n",
              "<mark class=\"entity\" style=\"background: #7aecec; padding: 0.45em 0.6em; margin: 0 0.25em; line-height: 1; border-radius: 0.35em;\">\n",
              "    Kremlin\n",
              "    <span style=\"font-size: 0.8em; font-weight: bold; line-height: 1; border-radius: 0.35em; vertical-align: middle; margin-left: 0.5rem\">ORG</span>\n",
              "</mark>\n",
              " would select gubernatorial</div></span>"
            ]
          },
          "metadata": {}
        }
      ]
    }
  ]
}